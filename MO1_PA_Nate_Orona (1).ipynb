{
 "cells": [
  {
   "cell_type": "code",
   "execution_count": 13,
   "id": "17906e68",
   "metadata": {},
   "outputs": [
    {
     "name": "stdout",
     "output_type": "stream",
     "text": [
      "Seconds in a minute: 60\n",
      "Seconds in an hour: 3600\n",
      "Seconds per day: 86400\n",
      "Seconds in a day (float): 24.0\n",
      "Seconds in a day (int): 24\n"
     ]
    }
   ],
   "source": [
    "mins_in_hour = 60\n",
    "seconds_per_min = 1 * 60\n",
    "seconds_per_hour = mins_in_hour * 60\n",
    "seconds_per_day = seconds_per_hour * 24\n",
    "print('Seconds in a minute: ' + str(seconds_per_min))\n",
    "print('Seconds in an hour: ' + str(seconds_per_hour))\n",
    "print('Seconds per day: ' + str(seconds_per_day))\n",
    "print('Hours in a day (float): ' + str(seconds_per_day / seconds_per_hour))\n",
    "print('Hours in a day (int): ' + str(seconds_per_day // seconds_per_hour))"
   ]
  },
  {
   "cell_type": "markdown",
   "id": "84f44490",
   "metadata": {},
   "source": [
    "<h1>Prompts</h1>"
   ]
  },
  {
   "cell_type": "markdown",
   "id": "eb77bae5",
   "metadata": {},
   "source": [
    "<ul>\n",
    "    <li>3.1 - There are 3600 seconds in an hour</li>\n",
    "    <li>3.3 - There are 86,400 seconds in a day</li>\n",
    "    <li>3.6 - Yes, they match.</li>\n",
    "</ul>"
   ]
  },
  {
   "cell_type": "code",
   "execution_count": null,
   "id": "f91dc485",
   "metadata": {},
   "outputs": [],
   "source": []
  }
 ],
 "metadata": {
  "kernelspec": {
   "display_name": "Python 3 (ipykernel)",
   "language": "python",
   "name": "python3"
  },
  "language_info": {
   "codemirror_mode": {
    "name": "ipython",
    "version": 3
   },
   "file_extension": ".py",
   "mimetype": "text/x-python",
   "name": "python",
   "nbconvert_exporter": "python",
   "pygments_lexer": "ipython3",
   "version": "3.9.5"
  }
 },
 "nbformat": 4,
 "nbformat_minor": 5
}
